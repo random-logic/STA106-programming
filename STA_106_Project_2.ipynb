{
  "nbformat": 4,
  "nbformat_minor": 0,
  "metadata": {
    "colab": {
      "provenance": []
    },
    "kernelspec": {
      "name": "ir",
      "display_name": "R"
    },
    "language_info": {
      "name": "R"
    }
  },
  "cells": [
    {
      "cell_type": "markdown",
      "source": [
        "# Setup\n"
      ],
      "metadata": {
        "id": "ghzVi5-iw2Cu"
      }
    },
    {
      "cell_type": "code",
      "source": [
        "# Libraries\n",
        "# Warning: This takes a while, take a break while running this line\n",
        "install.packages(\"car\")"
      ],
      "metadata": {
        "colab": {
          "base_uri": "https://localhost:8080/"
        },
        "id": "l6UFvaxl4P3k",
        "outputId": "cf26467b-80a2-49d2-a5aa-45a616483c0d"
      },
      "execution_count": null,
      "outputs": [
        {
          "output_type": "stream",
          "name": "stderr",
          "text": [
            "Installing package into ‘/usr/local/lib/R/site-library’\n",
            "(as ‘lib’ is unspecified)\n",
            "\n",
            "also installing the dependencies ‘numDeriv’, ‘SparseM’, ‘MatrixModels’, ‘minqa’, ‘nloptr’, ‘Rcpp’, ‘RcppEigen’, ‘carData’, ‘abind’, ‘pbkrtest’, ‘quantreg’, ‘lme4’\n",
            "\n",
            "\n"
          ]
        }
      ]
    },
    {
      "cell_type": "code",
      "source": [
        "# Auth and mount google drive\n",
        "googledrive::drive_auth(use_oob = TRUE, cache = TRUE)"
      ],
      "metadata": {
        "colab": {
          "base_uri": "https://localhost:8080/"
        },
        "id": "QjxmRvTEtHyp",
        "outputId": "8853383e-3b9d-4f34-882e-141185ef5004"
      },
      "execution_count": null,
      "outputs": [
        {
          "output_type": "stream",
          "name": "stderr",
          "text": [
            "\u001b[1m\u001b[22mThe \u001b[34mgoogledrive\u001b[39m package is requesting access to your Google account.\n",
            "Enter '1' to start a new auth process or select a pre-authorized account.\n",
            "\u001b[1m1\u001b[22m: Send me to the browser for a new auth process.\n",
            "\u001b[1m2\u001b[22m: ajowe@ucdavis.edu\n"
          ]
        },
        {
          "name": "stdout",
          "output_type": "stream",
          "text": [
            "Selection: 2\n"
          ]
        }
      ]
    },
    {
      "cell_type": "code",
      "source": [
        "# Name of the file in the home folder of google drive\n",
        "file_name <- \"Salary.csv\"\n",
        "\n",
        "# Find the file in Google Drive (search in the root directory)\n",
        "file_info <- googledrive::drive_find(file_name)\n",
        "\n",
        "# Check if the file was found\n",
        "if (length(file_info) > 0) {\n",
        "  # Get the file ID\n",
        "  file_id <- file_info$id\n",
        "\n",
        "  # Download the file to the current working directory\n",
        "  googledrive::drive_download(googledrive::as_id(file_id))\n",
        "} else {\n",
        "  cat(\"File not found in Google Drive.\")\n",
        "}"
      ],
      "metadata": {
        "colab": {
          "base_uri": "https://localhost:8080/",
          "height": 297
        },
        "id": "G9qMExWCvBsQ",
        "outputId": "e987084b-bbb2-49b1-d705-a733a6002c71"
      },
      "execution_count": null,
      "outputs": [
        {
          "output_type": "stream",
          "name": "stderr",
          "text": [
            "Auto-refreshing stale OAuth token.\n",
            "\n"
          ]
        },
        {
          "output_type": "error",
          "ename": "ERROR",
          "evalue": "Error: Path exists and overwrite is FALSE\n",
          "traceback": [
            "Error: Path exists and overwrite is FALSE\nTraceback:\n",
            "1. googledrive::drive_download(googledrive::as_id(file_id))   # at line 13 of file <text>",
            "2. request_make(request, httr::write_disk(path, overwrite = overwrite))",
            "3. gargle::request_retry(x, ..., user_agent = drive_ua())",
            "4. request_make(...)",
            "5. method(url = x$url, body = x$body, x$token, encode = encode, \n .     user_agent, ...)",
            "6. handle_url(handle, url, ...)",
            "7. named(list(...))",
            "8. httr::write_disk(path, overwrite = overwrite)",
            "9. stop(\"Path exists and overwrite is FALSE\", call. = FALSE)"
          ]
        }
      ]
    },
    {
      "cell_type": "markdown",
      "source": [
        "# I Introduction"
      ],
      "metadata": {
        "id": "-QWjGB4rG5KH"
      }
    },
    {
      "cell_type": "code",
      "source": [
        "# Read the data from the downloaded file\n",
        "data <- read.csv(file_name)\n",
        "head(data)"
      ],
      "metadata": {
        "id": "hNcf_OA6yAeb"
      },
      "execution_count": null,
      "outputs": []
    },
    {
      "cell_type": "code",
      "source": [
        "# Give me means\n",
        "find.means = function(the.data,fun.name = mean){\n",
        "  a = length(unique(the.data[,2]))\n",
        "  b = length(unique(the.data[,3]))\n",
        "  means.A = by(the.data[,1], the.data[,2], fun.name)\n",
        "  means.B = by(the.data[,1],the.data[,3],fun.name)\n",
        "  means.AB = by(the.data[,1],list(the.data[,2],the.data[,3]),fun.name)\n",
        "  MAB = matrix(means.AB,nrow = b, ncol = a, byrow = TRUE)\n",
        "  colnames(MAB) = names(means.A)\n",
        "  rownames(MAB) = names(means.B)\n",
        "  MA = as.numeric(means.A)\n",
        "  names(MA) = names(means.A)\n",
        "  MB = as.numeric(means.B)\n",
        "  names(MB) = names(means.B)\n",
        "  MAB = t(MAB)\n",
        "  results = list(A = MA, B = MB, AB = MAB)\n",
        "  return(results)\n",
        "}\n",
        "\n",
        "# Get all means for context\n",
        "# all.means <- find.means(the.data)\n",
        "# the.means <- data.frame(all.means$AB)\n",
        "# the.means$Avg <- all.means$A\n",
        "# the.means <- rbind(the.means, Avg = c(unlist(all.means$B), \"NA\"))"
      ],
      "metadata": {
        "colab": {
          "base_uri": "https://localhost:8080/",
          "height": 223
        },
        "id": "Qs3kwfmgjK9g",
        "outputId": "f9a94951-175e-407c-993a-e261a708b8c6"
      },
      "execution_count": null,
      "outputs": [
        {
          "output_type": "display_data",
          "data": {
            "text/html": [
              "<table class=\"dataframe\">\n",
              "<caption>A data.frame: 4 × 3</caption>\n",
              "<thead>\n",
              "\t<tr><th></th><th scope=col>S</th><th scope=col>SF</th><th scope=col>Avg</th></tr>\n",
              "\t<tr><th></th><th scope=col>&lt;chr&gt;</th><th scope=col>&lt;chr&gt;</th><th scope=col>&lt;chr&gt;</th></tr>\n",
              "</thead>\n",
              "<tbody>\n",
              "\t<tr><th scope=row>BE</th><td>79.75485        </td><td>82.4191421936352</td><td>81.0869960968176</td></tr>\n",
              "\t<tr><th scope=row>DS</th><td>112.52715       </td><td>117.768832413411</td><td>115.147991206706</td></tr>\n",
              "\t<tr><th scope=row>SE</th><td>95.54875        </td><td>110.264123216383</td><td>102.906436608192</td></tr>\n",
              "\t<tr><th scope=row>Avg</th><td>95.9435833333333</td><td>103.48403260781 </td><td>NA              </td></tr>\n",
              "</tbody>\n",
              "</table>\n"
            ],
            "text/markdown": "\nA data.frame: 4 × 3\n\n| <!--/--> | S &lt;chr&gt; | SF &lt;chr&gt; | Avg &lt;chr&gt; |\n|---|---|---|---|\n| BE | 79.75485         | 82.4191421936352 | 81.0869960968176 |\n| DS | 112.52715        | 117.768832413411 | 115.147991206706 |\n| SE | 95.54875         | 110.264123216383 | 102.906436608192 |\n| Avg | 95.9435833333333 | 103.48403260781  | NA               |\n\n",
            "text/latex": "A data.frame: 4 × 3\n\\begin{tabular}{r|lll}\n  & S & SF & Avg\\\\\n  & <chr> & <chr> & <chr>\\\\\n\\hline\n\tBE & 79.75485         & 82.4191421936352 & 81.0869960968176\\\\\n\tDS & 112.52715        & 117.768832413411 & 115.147991206706\\\\\n\tSE & 95.54875         & 110.264123216383 & 102.906436608192\\\\\n\tAvg & 95.9435833333333 & 103.48403260781  & NA              \\\\\n\\end{tabular}\n",
            "text/plain": [
              "    S                SF               Avg             \n",
              "BE  79.75485         82.4191421936352 81.0869960968176\n",
              "DS  112.52715        117.768832413411 115.147991206706\n",
              "SE  95.54875         110.264123216383 102.906436608192\n",
              "Avg 95.9435833333333 103.48403260781  NA              "
            ]
          },
          "metadata": {}
        }
      ]
    },
    {
      "cell_type": "markdown",
      "source": [
        "Question: How does the annual salary (USD) vary between different professions (Data Scientist, Software Engineer, Bioinformatics Engineer) across different regions (San Francisco and Seattle)?\n",
        "\n",
        "Interest: Understanding the salary distribution across professions and regions can provide insightful economic. Insights into wage can help individuals make informed decisions about career paths and relocation opportunities. Additionally, businesses and governments can use this information to strategize their hiring plans and economic policies respectively.\n",
        "\n",
        "Approach: Two Factor ANOVA (TFA)"
      ],
      "metadata": {
        "id": "BbJz-59bG8up"
      }
    },
    {
      "cell_type": "markdown",
      "source": [
        "# III Diagnostics"
      ],
      "metadata": {
        "id": "k9wckb1Sw5t4"
      }
    },
    {
      "cell_type": "markdown",
      "source": [
        "In this section, we will check whether our data satisfies the ANOVA assumptions.\n",
        "\n",
        "The assumptions are:\n",
        "1. All samples are independent\n",
        "2. All groups in factor $A$ are independent\n",
        "3. All groups in factor $B$ are independent\n",
        "4. Errors are normally distributed and have constant variance where $ϵ_{ij} \\sim N(0, \\sigma_\\epsilon^2)$\n",
        "\n",
        "Due to limitations, we can only test whether the errors are normally distributed and have constant variance. We cannot determine whether assumptions one through three are satisfied as we did not sample the data. For simplicity, we will assume these hold."
      ],
      "metadata": {
        "id": "c3YhWBOCr7V-"
      }
    },
    {
      "cell_type": "code",
      "source": [
        "# Get model\n",
        "the.model <- lm(Annual ~ Prof + Region, data = data)\n",
        "the.residuals <- residuals(the.model)"
      ],
      "metadata": {
        "id": "gCfLBmw3Cd-m"
      },
      "execution_count": null,
      "outputs": []
    },
    {
      "cell_type": "markdown",
      "source": [
        "## III.1 Assessing Type I and Type II Errors"
      ],
      "metadata": {
        "id": "v83Xi9mEEDr_"
      }
    },
    {
      "cell_type": "markdown",
      "source": [
        "To determine which $\\alpha$ to use for diagnostics, we need to assess whether we want to minimize the chance of a Type I Error or a Type II Error.\n",
        "\n",
        "- Type I Error: When you reject $H_0$ when in reality $H_0$ is true. In this case, this represents the chance we conclude the data violates our ANOVA assumptions when in reality it satisfies our ANOVA assumptions.\n",
        "- Type II Error: When you accept $H_0$ when in reality $H_0$ is false. In this case, this represents the chance we conclude the data satisfies our ANOVA assumptions when in reality it violates our ANOVA assumptions\n",
        "\n",
        "For determining normality and constant variance, we want to minimize our probability of incorrect assumptions, so a Type II error is worse than a Type I error. As a result, we want to maximize $\\alpha$, so we will use $\\alpha = 0.1$ as our threshold."
      ],
      "metadata": {
        "id": "JtVYMyFwE-Um"
      }
    },
    {
      "cell_type": "markdown",
      "source": [
        "## III.2 Determine Normality"
      ],
      "metadata": {
        "id": "kXwsIO8OsTi7"
      }
    },
    {
      "cell_type": "markdown",
      "source": [
        "### III.2.1 QQ Plot"
      ],
      "metadata": {
        "id": "vRyEYjaM-37O"
      }
    },
    {
      "cell_type": "code",
      "source": [
        "# Do QQ Plot\n",
        "qqnorm(the.residuals, main = \"Figure 3.2.1 - Normal Q-Q Plot\")\n",
        "qqline(the.residuals)"
      ],
      "metadata": {
        "id": "v8lCYfPAvYV9",
        "colab": {
          "base_uri": "https://localhost:8080/",
          "height": 437
        },
        "outputId": "ba1ca581-2a51-4e0e-8699-803929f641bc"
      },
      "execution_count": null,
      "outputs": [
        {
          "output_type": "display_data",
          "data": {
            "text/plain": [
              "Plot with title “Normal Q-Q Plot”"
            ],
            "image/png": "[encoded data removed]"
          },
          "metadata": {
            "image/png": {
              "width": 420,
              "height": 420
            }
          }
        }
      ]
    },
    {
      "cell_type": "markdown",
      "source": [
        "The QQ plot shows our original data plotted against a theoretical normal distribution. From the plot, the majority of the data points converge to the normal line, suggesting that our data is most likely normal. We formalize this plot by running a Shapiro-Wilk Test next."
      ],
      "metadata": {
        "id": "2zZZS1nD1Qnq"
      }
    },
    {
      "cell_type": "markdown",
      "source": [
        "### III.2.2 Shapiro Wilk Test"
      ],
      "metadata": {
        "id": "7zREjL41-_bc"
      }
    },
    {
      "cell_type": "code",
      "source": [
        "the.SWtest <- shapiro.test(the.residuals)\n",
        "# the.SWtest"
      ],
      "metadata": {
        "colab": {
          "base_uri": "https://localhost:8080/",
          "height": 104
        },
        "id": "k9VKVkdl1oGA",
        "outputId": "0e72a0fd-1fa7-49c3-bad6-b1d4025d8efb"
      },
      "execution_count": null,
      "outputs": [
        {
          "output_type": "display_data",
          "data": {
            "text/plain": [
              "\n",
              "\tShapiro-Wilk normality test\n",
              "\n",
              "data:  the.residuals\n",
              "W = 0.99146, p-value = 0.6698\n"
            ]
          },
          "metadata": {}
        }
      ]
    },
    {
      "cell_type": "markdown",
      "source": [
        "$H_0:$ Our data is normal.\n",
        "\n",
        "$H_a:$ Our data is not normal.\n",
        "\n",
        "$p = 0.6698$\n",
        "\n",
        "Since $p > \\alpha$, we accept $H_0$. Therefore, our data is normal."
      ],
      "metadata": {
        "id": "7tJLCQUm1fKj"
      }
    },
    {
      "cell_type": "markdown",
      "source": [
        "## III.3 Assessing Constant Variance"
      ],
      "metadata": {
        "id": "QqoaiGH82BLf"
      }
    },
    {
      "cell_type": "markdown",
      "source": [
        "### III.3.1 Plot on Errors vs Groups Means"
      ],
      "metadata": {
        "id": "N5POIxTN_L6H"
      }
    },
    {
      "cell_type": "code",
      "source": [
        "# Do plot\n",
        "plot(the.model$fitted.values, the.residuals,\n",
        "     main = \"Figure 3.3.1 Errors vs. Group Means\",\n",
        "     xlab = \"Group Means\",\n",
        "     ylab = \"Errors\")\n",
        "\n",
        "abline(h = 0,col = \"purple\")"
      ],
      "metadata": {
        "colab": {
          "base_uri": "https://localhost:8080/",
          "height": 124
        },
        "id": "3rUZ3SKM2CyA",
        "outputId": "8490fb45-b2ac-4482-83af-85b518191d71"
      },
      "execution_count": 1,
      "outputs": [
        {
          "output_type": "error",
          "ename": "ERROR",
          "evalue": "Error in eval(expr, envir, enclos): object 'the.model' not found\n",
          "traceback": [
            "Error in eval(expr, envir, enclos): object 'the.model' not found\nTraceback:\n",
            "1. plot(the.model$fitted.values, the.residuals, main = \"Figure 3.3.1 Errors vs. Group Means\", \n .     xlab = \"Group Means\", ylab = \"Errors\")"
          ]
        }
      ]
    },
    {
      "cell_type": "markdown",
      "source": [
        "From figure 3.3.1, the dots for each group mean seem to have approximately the same spread, suggesting that there is constant variance between groups. To formalize this, we will run the BF-test next."
      ],
      "metadata": {
        "id": "xx5K7-AG_Oz-"
      }
    },
    {
      "cell_type": "markdown",
      "source": [
        "### III.3.2 BF-Test"
      ],
      "metadata": {
        "id": "mBPMm26h_W1L"
      }
    },
    {
      "cell_type": "code",
      "source": [
        "# Do BF-test\n",
        "the.BFtest <- car::leveneTest(the.residuals ~ paste(Prof, Region), data=data,\n",
        "                              center=median)\n",
        "the.p.val <- the.BFtest[[3]][1]\n",
        "# the.p.val"
      ],
      "metadata": {
        "colab": {
          "base_uri": "https://localhost:8080/",
          "height": 69
        },
        "id": "Hq4FNhEl3Xms",
        "outputId": "c550a276-e68f-4887-a338-28cb83261a82"
      },
      "execution_count": null,
      "outputs": [
        {
          "output_type": "stream",
          "name": "stderr",
          "text": [
            "Warning message in leveneTest.default(y = y, group = group, ...):\n",
            "“group coerced to factor.”\n"
          ]
        },
        {
          "output_type": "display_data",
          "data": {
            "text/html": [
              "0.304831942803325"
            ],
            "text/markdown": "0.304831942803325",
            "text/latex": "0.304831942803325",
            "text/plain": [
              "[1] 0.3048319"
            ]
          },
          "metadata": {}
        }
      ]
    },
    {
      "cell_type": "markdown",
      "source": [
        "$H_0:$ The data have constant variances.\n",
        "\n",
        "$H_a:$ The data does not have constant variances.\n",
        "\n",
        "Since $p = 0.3048 > \\alpha$, we accept $H_0$. Therefore, the data has constant variances."
      ],
      "metadata": {
        "id": "UlH1UaVj6in7"
      }
    },
    {
      "cell_type": "markdown",
      "source": [
        "## III.4 Final Verdict"
      ],
      "metadata": {
        "id": "qIOe0Euq_lxZ"
      }
    },
    {
      "cell_type": "markdown",
      "source": [
        "We can conclude that the errors are normally distributed and have constant variances, satisfying one of our ANOVA assumptions. No transformation nor outlier removal is needed."
      ],
      "metadata": {
        "id": "vhFzKUnI_pC_"
      }
    },
    {
      "cell_type": "markdown",
      "source": [
        "# IV Analysis and Interpretation"
      ],
      "metadata": {
        "id": "sr5JOs9n660L"
      }
    },
    {
      "cell_type": "markdown",
      "source": [
        "## IV.1 Finding Best Model"
      ],
      "metadata": {
        "id": "Clcya0g26ysf"
      }
    },
    {
      "cell_type": "markdown",
      "source": [
        "We will first observe the conditional $R^2$ and differences between mean values to see what to expect. Then we will use F-statistic test to find out which model to use. When conducting our test, we will first test for interaction effect. If there is interaction effect, we use the model with interaction effect and stop the testing. Otherwise, we will continue testing for factor A and factor B. We will only use these factors if there are significant effects."
      ],
      "metadata": {
        "id": "gUIXfymx64xU"
      }
    },
    {
      "cell_type": "markdown",
      "source": [
        "### IV.1.1 Conditional $R^2$"
      ],
      "metadata": {
        "id": "-xx5InlU7Y4-"
      }
    },
    {
      "cell_type": "markdown",
      "source": [
        "**Figure 4.1.1**"
      ],
      "metadata": {
        "id": "KWlkLSc8sW2b"
      }
    },
    {
      "cell_type": "code",
      "source": [
        "# Rename for more efficient typing\n",
        "the.data <- data\n",
        "names(the.data) <- c(\"Y\", \"A\", \"B\")\n",
        "\n",
        "# Fit the models\n",
        "AB <- lm(Y ~ A * B, the.data)\n",
        "A.B = lm(Y ~ A + B,the.data)\n",
        "A = lm(Y ~ A,the.data)\n",
        "B = lm(Y ~ B,the.data)\n",
        "N = lm(Y ~ 1, the.data)\n",
        "\n",
        "# Find the SSE values\n",
        "all.models = list(AB,A.B,A,B,N)\n",
        "SSE = t(as.matrix(sapply(all.models,function(M) sum(M$residuals^2))))\n",
        "colnames(SSE) = c(\"AB\",\"(A+B)\",\"A\",\"B\",\"Empty/Null\")\n",
        "rownames(SSE) = \"SSE\"\n",
        "round(SSE, 4)"
      ],
      "metadata": {
        "colab": {
          "base_uri": "https://localhost:8080/",
          "height": 210
        },
        "id": "QYwGHREN7kCb",
        "outputId": "50c8394f-825c-4d59-91d0-1e498a7635de"
      },
      "execution_count": null,
      "outputs": [
        {
          "output_type": "display_data",
          "data": {
            "text/html": [
              "<table class=\"dataframe\">\n",
              "<caption>A matrix: 1 × 5 of type dbl</caption>\n",
              "<thead>\n",
              "\t<tr><th></th><th scope=col>AB</th><th scope=col>(A+B)</th><th scope=col>A</th><th scope=col>B</th><th scope=col>Empty/Null</th></tr>\n",
              "</thead>\n",
              "<tbody>\n",
              "\t<tr><th scope=row>SSE</th><td>15252.93</td><td>16058.34</td><td>17764.09</td><td>39872.94</td><td>41578.69</td></tr>\n",
              "</tbody>\n",
              "</table>\n"
            ],
            "text/markdown": "\nA matrix: 1 × 5 of type dbl\n\n| <!--/--> | AB | (A+B) | A | B | Empty/Null |\n|---|---|---|---|---|---|\n| SSE | 15252.93 | 16058.34 | 17764.09 | 39872.94 | 41578.69 |\n\n",
            "text/latex": "A matrix: 1 × 5 of type dbl\n\\begin{tabular}{r|lllll}\n  & AB & (A+B) & A & B & Empty/Null\\\\\n\\hline\n\tSSE & 15252.93 & 16058.34 & 17764.09 & 39872.94 & 41578.69\\\\\n\\end{tabular}\n",
            "text/plain": [
              "    AB       (A+B)    A        B        Empty/Null\n",
              "SSE 15252.93 16058.34 17764.09 39872.94 41578.69  "
            ]
          },
          "metadata": {}
        },
        {
          "output_type": "display_data",
          "data": {
            "text/html": [
              "<table class=\"dataframe\">\n",
              "<caption>A data.frame: 1 × 5</caption>\n",
              "<thead>\n",
              "\t<tr><th scope=col>$R^2(AB|(A+B))$</th><th scope=col>$R^2((A+B)|A)$</th><th scope=col>$R^2((A+B)|B)$</th><th scope=col>$R^2(A|Empty)$</th><th scope=col>$R^2(B|Empty)$</th></tr>\n",
              "\t<tr><th scope=col>&lt;dbl&gt;</th><th scope=col>&lt;dbl&gt;</th><th scope=col>&lt;dbl&gt;</th><th scope=col>&lt;dbl&gt;</th><th scope=col>&lt;dbl&gt;</th></tr>\n",
              "</thead>\n",
              "<tbody>\n",
              "\t<tr><td>0.0501551</td><td>0.09602243</td><td>0.5972622</td><td>0.5727597</td><td>0.04102465</td></tr>\n",
              "</tbody>\n",
              "</table>\n"
            ],
            "text/markdown": "\nA data.frame: 1 × 5\n\n| $R^2(AB|(A+B))$ &lt;dbl&gt; | $R^2((A+B)|A)$ &lt;dbl&gt; | $R^2((A+B)|B)$ &lt;dbl&gt; | $R^2(A|Empty)$ &lt;dbl&gt; | $R^2(B|Empty)$ &lt;dbl&gt; |\n|---|---|---|---|---|\n| 0.0501551 | 0.09602243 | 0.5972622 | 0.5727597 | 0.04102465 |\n\n",
            "text/latex": "A data.frame: 1 × 5\n\\begin{tabular}{lllll}\n \\$R\\textasciicircum{}2(AB\\textbar{}(A+B))\\$ & \\$R\\textasciicircum{}2((A+B)\\textbar{}A)\\$ & \\$R\\textasciicircum{}2((A+B)\\textbar{}B)\\$ & \\$R\\textasciicircum{}2(A\\textbar{}Empty)\\$ & \\$R\\textasciicircum{}2(B\\textbar{}Empty)\\$\\\\\n <dbl> & <dbl> & <dbl> & <dbl> & <dbl>\\\\\n\\hline\n\t 0.0501551 & 0.09602243 & 0.5972622 & 0.5727597 & 0.04102465\\\\\n\\end{tabular}\n",
            "text/plain": [
              "  $R^2(AB|(A+B))$ $R^2((A+B)|A)$ $R^2((A+B)|B)$ $R^2(A|Empty)$ $R^2(B|Empty)$\n",
              "1 0.0501551       0.09602243     0.5972622      0.5727597      0.04102465    "
            ]
          },
          "metadata": {}
        }
      ]
    },
    {
      "cell_type": "markdown",
      "source": [
        "**Figure 4.1.2**"
      ],
      "metadata": {
        "id": "TCPy6s8Fsrtt"
      }
    },
    {
      "cell_type": "code",
      "source": [
        "# Get partial R^2\n",
        "get.Partial.R2 = function(small.model,big.model){\n",
        "  SSE1 = sum(small.model$residuals^2)\n",
        "  SSE2 = sum(big.model$residuals^2)\n",
        "  PR2 = (SSE1 - SSE2)/SSE1\n",
        "  return(PR2)\n",
        "}\n",
        "\n",
        "the.partial.R2 <- data.frame(get.Partial.R2(A.B, AB), get.Partial.R2(A, A.B),\n",
        "                               get.Partial.R2(B, A.B), get.Partial.R2(N, A),\n",
        "                               get.Partial.R2(N, B))\n",
        "colnames(the.partial.R2) <- c(\"$R^2(AB|(A+B))$\", \"$R^2((A+B)|A)$\",\n",
        "                              \"$R^2((A+B)|B)$\", \"$R^2(A|Empty)$\",\n",
        "                              \"$R^2(B|Empty)$\")\n",
        "round(the.partial.R2, 4)"
      ],
      "metadata": {
        "id": "vRzoGQ4JO9s8"
      },
      "execution_count": null,
      "outputs": []
    },
    {
      "cell_type": "markdown",
      "source": [
        "From figure 4.1.2, there seems to be a significant factor A effect since its $R^2$ value is large when adding it both to the empty model and the model with factor B. While the conditional $R^2$ may hint which factors may be significant, this is not a conclusive test."
      ],
      "metadata": {
        "id": "n6Jc9IqP_6UJ"
      }
    },
    {
      "cell_type": "markdown",
      "source": [
        "### IV.1.2 Assessing Type I and Type II Errors"
      ],
      "metadata": {
        "id": "gQJ9CIXDDOcz"
      }
    },
    {
      "cell_type": "markdown",
      "source": [
        "To determine which $\\alpha$ to use for diagnostics, we need to assess whether we want to minimize the chance of a Type I Error or a Type II Error.\n",
        "\n",
        "Type I Error: The chance we reject $H_0$ when in reality $H_0$ is true. In this case, it is the chance we conclude that there is a significant effect when in reality there is no significant effect.\n",
        "\n",
        "Type II Error: The chance that we accept $H_0$ when in reality $H_0$ is false. In this case, it is the chance we conclude that there is no significant effect when in reality there is a significant effect.\n",
        "\n",
        "In our analysis, we want to capture the factor and interaction effects if it exists, and thus want to minimize unexplained error. The lower the Type II Error, the less chance of falsely concluding no significant effect, increasing the chance of less unexplained error. Since a type II error is worse, we want to minimize it, so we will choose a higher $\\alpha$ value. As a result, we will choose $\\alpha = 0.1$."
      ],
      "metadata": {
        "id": "zkK-AWjOES4O"
      }
    },
    {
      "cell_type": "markdown",
      "source": [
        "### IV.1.3 Testing for Interaction Effect"
      ],
      "metadata": {
        "id": "emPhNoyw7ceA"
      }
    },
    {
      "cell_type": "markdown",
      "source": [
        "Our full model is $Y_{ijk} = \\mu_{ij} + \\gamma_i + \\delta_j + (\\gamma\\delta)_{ij} + \\epsilon_{ijk}$\n",
        "\n",
        "With constraints:\n",
        "- $\\sum \\gamma_i = 0$\n",
        "- $\\sum \\delta_j = 0$\n",
        "- $\\sum \\sum (\\gamma_i \\delta_j) = 0$\n",
        "\n",
        "Our reduced model is $Y_{ijk} = \\mu_{ij} + \\gamma_i + \\delta_j + \\epsilon_{ijk}$\n",
        "\n",
        "With constraints:\n",
        "- $\\sum \\gamma_i = 0$\n",
        "- $\\sum \\delta_j = 0$\n",
        "\n",
        "Hypothesis:\n",
        "- $H_0:$ There is no significant interaction effect (i.e. all $(\\gamma\\delta)_{ij} = 0$). Do not use the full model.\n",
        "- $H_a:$ There is significant interaction effect (i.e. at least one $(\\gamma\\delta)_{ij} \\neq 0$). Use the full model."
      ],
      "metadata": {
        "id": "NlWDCgF37krr"
      }
    },
    {
      "cell_type": "code",
      "source": [
        "# Interaction effect test\n",
        "# anova(A.B, AB)"
      ],
      "metadata": {
        "colab": {
          "base_uri": "https://localhost:8080/",
          "height": 161
        },
        "id": "URERnifb7-F6",
        "outputId": "1977ca13-1329-466b-ba8e-af097bb761d6"
      },
      "execution_count": null,
      "outputs": [
        {
          "output_type": "display_data",
          "data": {
            "text/html": [
              "<table class=\"dataframe\">\n",
              "<caption>A anova: 2 × 6</caption>\n",
              "<thead>\n",
              "\t<tr><th></th><th scope=col>Res.Df</th><th scope=col>RSS</th><th scope=col>Df</th><th scope=col>Sum of Sq</th><th scope=col>F</th><th scope=col>Pr(&gt;F)</th></tr>\n",
              "\t<tr><th></th><th scope=col>&lt;dbl&gt;</th><th scope=col>&lt;dbl&gt;</th><th scope=col>&lt;dbl&gt;</th><th scope=col>&lt;dbl&gt;</th><th scope=col>&lt;dbl&gt;</th><th scope=col>&lt;dbl&gt;</th></tr>\n",
              "</thead>\n",
              "<tbody>\n",
              "\t<tr><th scope=row>1</th><td>116</td><td>16058.34</td><td>NA</td><td>      NA</td><td>      NA</td><td>        NA</td></tr>\n",
              "\t<tr><th scope=row>2</th><td>114</td><td>15252.93</td><td> 2</td><td>805.4077</td><td>3.009798</td><td>0.05323577</td></tr>\n",
              "</tbody>\n",
              "</table>\n"
            ],
            "text/markdown": "\nA anova: 2 × 6\n\n| <!--/--> | Res.Df &lt;dbl&gt; | RSS &lt;dbl&gt; | Df &lt;dbl&gt; | Sum of Sq &lt;dbl&gt; | F &lt;dbl&gt; | Pr(&gt;F) &lt;dbl&gt; |\n|---|---|---|---|---|---|---|\n| 1 | 116 | 16058.34 | NA |       NA |       NA |         NA |\n| 2 | 114 | 15252.93 |  2 | 805.4077 | 3.009798 | 0.05323577 |\n\n",
            "text/latex": "A anova: 2 × 6\n\\begin{tabular}{r|llllll}\n  & Res.Df & RSS & Df & Sum of Sq & F & Pr(>F)\\\\\n  & <dbl> & <dbl> & <dbl> & <dbl> & <dbl> & <dbl>\\\\\n\\hline\n\t1 & 116 & 16058.34 & NA &       NA &       NA &         NA\\\\\n\t2 & 114 & 15252.93 &  2 & 805.4077 & 3.009798 & 0.05323577\\\\\n\\end{tabular}\n",
            "text/plain": [
              "  Res.Df RSS      Df Sum of Sq F        Pr(>F)    \n",
              "1 116    16058.34 NA       NA        NA         NA\n",
              "2 114    15252.93  2 805.4077  3.009798 0.05323577"
            ]
          },
          "metadata": {}
        }
      ]
    },
    {
      "cell_type": "markdown",
      "source": [
        "Test results:\n",
        "- $F_s = 3.0098$\n",
        "- $p = 0.0532$\n",
        "\n",
        "Since $p \\leq \\alpha$, we reject $H_0$. Therefore, we will use the full model."
      ],
      "metadata": {
        "id": "uU76j7UIB72n"
      }
    },
    {
      "cell_type": "markdown",
      "source": [
        "### IV.1.4 Model Choice"
      ],
      "metadata": {
        "id": "OHE3khDV722j"
      }
    },
    {
      "cell_type": "markdown",
      "source": [
        "From our testing, our final model choice is $Y_{ijk} = \\mu_{ij} + \\gamma_i + \\delta_j + (\\gamma \\delta)_{ij} + \\epsilon{ijk}$\n",
        "\n",
        "With constraints:\n",
        "- $\\sum \\gamma_i = 0$\n",
        "- $\\sum \\delta_j = 0$\n",
        "- $\\sum \\sum (\\gamma_i \\delta_j) = 0$"
      ],
      "metadata": {
        "id": "yhUeT-i1DefM"
      }
    },
    {
      "cell_type": "markdown",
      "source": [
        "## IV.2 Comparisons of Different Factors"
      ],
      "metadata": {
        "id": "WFL9wiP5FO-j"
      }
    },
    {
      "cell_type": "markdown",
      "source": [
        "First, we will create pairwise confidence intervals to test how much professions affects average annual salary. Then, we will create another pairwise interval to test how much region affects average annual salary. Lastly, we will create non-pairwise intervals to test for more complex differences."
      ],
      "metadata": {
        "id": "uFl8NGf-GeFf"
      }
    },
    {
      "cell_type": "code",
      "source": [
        "# Get relavent values for CI based on model choice\n",
        "n_T <- nrow(the.data)\n",
        "a <- length(unique(the.data$A))\n",
        "b <- length(unique(the.data$B))\n",
        "sse <- SSE[\"SSE\", \"AB\"]\n",
        "df_sse <- n_T - a * b\n",
        "mse <- sse / df_sse\n",
        "alpha <- 0.001\n",
        "\n",
        "# Give me multipliers\n",
        "find.mult = function(alpha,a,b,dfSSE,g,group){\n",
        "  if(group == \"A\"){\n",
        "  Tuk = round(qtukey(1-alpha,a,dfSSE)/sqrt(2),3)\n",
        "  Bon = round(qt(1-alpha/(2*g), dfSSE ) ,3)\n",
        "  Sch = round(sqrt((a-1)*qf(1-alpha, a-1, dfSSE)),3)\n",
        "  }else if(group == \"B\"){\n",
        "  Tuk = round(qtukey(1-alpha,b,dfSSE)/sqrt(2),3)\n",
        "  Bon = round(qt(1-alpha/(2*g), dfSSE ) ,3)\n",
        "  Sch = round(sqrt((b-1)*qf(1-alpha, b-1, dfSSE)),3)\n",
        "  }else if(group == \"AB\"){\n",
        "  Tuk = round(qtukey(1-alpha,a*b,dfSSE)/sqrt(2),3)\n",
        "  Bon = round(qt(1-alpha/(2*g), dfSSE ) ,3)\n",
        "  Sch = round(sqrt((a*b-1)*qf(1-alpha, a*b-1, dfSSE)),3)\n",
        "  }\n",
        "  results = c(Bon, Tuk,Sch)\n",
        "  names(results) = c(\"Bonferroni\",\"Tukey\",\"Scheffe\")\n",
        "  return(results)\n",
        "}\n",
        "\n",
        "# Give me CI\n",
        "give.me.CI = function(the.data,MSE,equal.weights = TRUE,multiplier,group,cs){\n",
        "   if(sum(cs) != 0 & sum(cs !=0 ) != 1){\n",
        "    return(\"Error - you did not input a valid contrast\")\n",
        "  }else{\n",
        "    the.means = find.means(the.data)\n",
        "    the.ns =find.means(the.data,length)\n",
        "    nt = nrow(the.data)\n",
        "    a = length(unique(the.data[,2]))\n",
        "    b = length(unique(the.data[,3]))\n",
        "    if(group ==\"A\"){\n",
        "      if(equal.weights == TRUE){\n",
        "        a.means = rowMeans(the.means$AB)\n",
        "        est = sum(a.means*cs)\n",
        "        mul = rowSums(1/the.ns$AB)\n",
        "        SE = sqrt(MSE/b^2 * (sum(cs^2*mul)))\n",
        "        N = names(a.means)[cs!=0]\n",
        "        CS = paste(\"(\",cs[cs!=0],\")\",sep = \"\")\n",
        "        fancy = paste(paste(CS,N,sep =\"\"),collapse = \"+\")\n",
        "        names(est) = fancy\n",
        "      } else{\n",
        "        a.means = the.means$A\n",
        "        est = sum(a.means*cs)\n",
        "        SE = sqrt(MSE*sum(cs^2*(1/the.ns$A)))\n",
        "        N = names(a.means)[cs!=0]\n",
        "        CS = paste(\"(\",cs[cs!=0],\")\",sep = \"\")\n",
        "        fancy = paste(paste(CS,N,sep =\"\"),collapse = \"+\")\n",
        "        names(est) = fancy\n",
        "      }\n",
        "    }else if(group == \"B\"){\n",
        "      if(equal.weights == TRUE){\n",
        "        b.means = colMeans(the.means$AB)\n",
        "        est = sum(b.means*cs)\n",
        "        mul = colSums(1/the.ns$AB)\n",
        "        SE = sqrt(MSE/a^2 * (sum(cs^2*mul)))\n",
        "        N = names(b.means)[cs!=0]\n",
        "        CS = paste(\"(\",cs[cs!=0],\")\",sep = \"\")\n",
        "        fancy = paste(paste(CS,N,sep =\"\"),collapse = \"+\")\n",
        "        names(est) = fancy\n",
        "      } else{\n",
        "        b.means = the.means$B\n",
        "        est = sum(b.means*cs)\n",
        "        SE = sqrt(MSE*sum(cs^2*(1/the.ns$B)))\n",
        "        N = names(b.means)[cs!=0]\n",
        "        CS = paste(\"(\",cs[cs!=0],\")\",sep = \"\")\n",
        "        fancy = paste(paste(CS,N,sep =\"\"),collapse = \"+\")\n",
        "        names(est) = fancy\n",
        "      }\n",
        "    } else if(group == \"AB\"){\n",
        "      est = sum(cs*the.means$AB)\n",
        "      SE = sqrt(MSE*sum(cs^2/the.ns$AB))\n",
        "      names(est) = \"someAB\"\n",
        "    }\n",
        "    the.CI = est + c(-1,1)*multiplier*SE\n",
        "    results = c(est,the.CI)\n",
        "    names(results) = c(names(est),\"lower bound\",\"upper bound\")\n",
        "    return(results)\n",
        "  }\n",
        "}"
      ],
      "metadata": {
        "id": "f91D4W-cIXVZ"
      },
      "execution_count": null,
      "outputs": []
    },
    {
      "cell_type": "markdown",
      "source": [
        "### IV.2.1 Accuracy"
      ],
      "metadata": {
        "id": "exQZbrvuS1xt"
      }
    },
    {
      "cell_type": "markdown",
      "source": [
        "We want to minimize the error of our confidence interval for stronger interpretation. As a result, we want to minimize the probability that the value does not lie within our confidence interval by minimizing $\\alpha$. Therefore, we will choose $\\alpha = 0.001$."
      ],
      "metadata": {
        "id": "UzwDytFoS00_"
      }
    },
    {
      "cell_type": "markdown",
      "source": [
        "### IV.2.2 Multiplier"
      ],
      "metadata": {
        "id": "UGa7oUmhxxym"
      }
    },
    {
      "cell_type": "markdown",
      "source": [
        "We will compute 3 pairwise confidence intervals for group A and 1 pairwise confidence interval for group B to determine the difference in annual salary given the difference in profession or region. For these intervals, we can use either the Bonferonni, Tukey, or Scheffe multipliers. We will pick the smallest multiplier for higher precision.\n",
        "\n",
        "We will also compute 2 non-pairwise confidence intervals. For these intervals, we cannot use Tukey since that is for pairwise comparisons only. We will pick either Bonferonni or Scheffe, whichever one is smaller."
      ],
      "metadata": {
        "id": "urTOMfjsxzlu"
      }
    },
    {
      "cell_type": "markdown",
      "source": [
        "### IV.2.3 Effect of Profession on Average Annual Salary"
      ],
      "metadata": {
        "id": "zfRgxjv3G3JC"
      }
    },
    {
      "cell_type": "markdown",
      "source": [
        "We will analyze the difference in average annual salary between all professions."
      ],
      "metadata": {
        "id": "yM91UDScY62E"
      }
    },
    {
      "cell_type": "code",
      "source": [
        "# Give me multiplier for pairwise comparisons between different professions\n",
        "all.mult <- find.mult(alpha = alpha, a = a, b = b, dfSSE = df_sse, g = 3,\n",
        "                      group = \"A\")\n",
        "the.mult <- min(all.mult)"
      ],
      "metadata": {
        "id": "w81u5D_oIhsF"
      },
      "execution_count": null,
      "outputs": []
    },
    {
      "cell_type": "code",
      "source": [
        "# Give me CI for BE vs DS\n",
        "the.CI <- give.me.CI(the.data, mse, equal.weights = TRUE, the.mult, \"A\",\n",
        "                     c(1, -1, 0))\n",
        "names(the.CI) <- c(\"$\\\\mu_{1.} - \\\\mu_{2.}$\", \"lower bound\", \"upper bound\")\n",
        "# data.frame(the.CI)"
      ],
      "metadata": {
        "colab": {
          "base_uri": "https://localhost:8080/",
          "height": 192
        },
        "id": "zFMu4UalLN5T",
        "outputId": "bca13094-1e78-4efe-8726-5d61d5f68170"
      },
      "execution_count": null,
      "outputs": [
        {
          "output_type": "display_data",
          "data": {
            "text/html": [
              "<table class=\"dataframe\">\n",
              "<caption>A data.frame: 3 × 1</caption>\n",
              "<thead>\n",
              "\t<tr><th></th><th scope=col>the.CI</th></tr>\n",
              "\t<tr><th></th><th scope=col>&lt;dbl&gt;</th></tr>\n",
              "</thead>\n",
              "<tbody>\n",
              "\t<tr><th scope=row>$\\mu_{1.} - \\mu_{2.}$</th><td>-34.06100</td></tr>\n",
              "\t<tr><th scope=row>lower bound</th><td>-43.60511</td></tr>\n",
              "\t<tr><th scope=row>upper bound</th><td>-24.51688</td></tr>\n",
              "</tbody>\n",
              "</table>\n"
            ],
            "text/markdown": "\nA data.frame: 3 × 1\n\n| <!--/--> | the.CI &lt;dbl&gt; |\n|---|---|\n| $\\mu_{1.} - \\mu_{2.}$ | -34.06100 |\n| lower bound | -43.60511 |\n| upper bound | -24.51688 |\n\n",
            "text/latex": "A data.frame: 3 × 1\n\\begin{tabular}{r|l}\n  & the.CI\\\\\n  & <dbl>\\\\\n\\hline\n\t\\$\\textbackslash{}mu\\_\\{1.\\} - \\textbackslash{}mu\\_\\{2.\\}\\$ & -34.06100\\\\\n\tlower bound & -43.60511\\\\\n\tupper bound & -24.51688\\\\\n\\end{tabular}\n",
            "text/plain": [
              "                        the.CI   \n",
              "$\\\\mu_{1.} - \\\\mu_{2.}$ -34.06100\n",
              "lower bound             -43.60511\n",
              "upper bound             -24.51688"
            ]
          },
          "metadata": {}
        }
      ]
    },
    {
      "cell_type": "markdown",
      "source": [
        "Our 99.9% confidence interval for the difference of average annual salary between BE (bioinformatics engineer) and DS (data scientist) is $[-43.6051, -24.5169]$. This means that we are 99.9% confident that on average BE makes around 24.5169 to 43.6051 less annually compared to DS. Since 0 is not in our confidence interval, we are 99.9% certain that there is a difference in average annual salary between BE and DS (i.e. BS makes less than DS)."
      ],
      "metadata": {
        "id": "hz_yCOPvPDmK"
      }
    },
    {
      "cell_type": "code",
      "source": [
        "# Give me CI for DS vs SE\n",
        "the.CI <- give.me.CI(the.data, mse, equal.weights = TRUE, the.mult, \"A\",\n",
        "                     c(0, 1, -1))\n",
        "names(the.CI) <- c(\"$\\\\mu_{2.} - \\\\mu_{3.}$\", \"lower bound\", \"upper bound\")\n",
        "# data.frame(the.CI)"
      ],
      "metadata": {
        "colab": {
          "base_uri": "https://localhost:8080/",
          "height": 192
        },
        "id": "EORZ312ZQoqc",
        "outputId": "b2be69c5-939e-403b-b6dc-bb39051bc027"
      },
      "execution_count": null,
      "outputs": [
        {
          "output_type": "display_data",
          "data": {
            "text/html": [
              "<table class=\"dataframe\">\n",
              "<caption>A data.frame: 3 × 1</caption>\n",
              "<thead>\n",
              "\t<tr><th></th><th scope=col>the.CI</th></tr>\n",
              "\t<tr><th></th><th scope=col>&lt;dbl&gt;</th></tr>\n",
              "</thead>\n",
              "<tbody>\n",
              "\t<tr><th scope=row>$\\mu_{2.} - \\mu_{3.}$</th><td>12.241555</td></tr>\n",
              "\t<tr><th scope=row>lower bound</th><td> 2.697441</td></tr>\n",
              "\t<tr><th scope=row>upper bound</th><td>21.785669</td></tr>\n",
              "</tbody>\n",
              "</table>\n"
            ],
            "text/markdown": "\nA data.frame: 3 × 1\n\n| <!--/--> | the.CI &lt;dbl&gt; |\n|---|---|\n| $\\mu_{2.} - \\mu_{3.}$ | 12.241555 |\n| lower bound |  2.697441 |\n| upper bound | 21.785669 |\n\n",
            "text/latex": "A data.frame: 3 × 1\n\\begin{tabular}{r|l}\n  & the.CI\\\\\n  & <dbl>\\\\\n\\hline\n\t\\$\\textbackslash{}mu\\_\\{2.\\} - \\textbackslash{}mu\\_\\{3.\\}\\$ & 12.241555\\\\\n\tlower bound &  2.697441\\\\\n\tupper bound & 21.785669\\\\\n\\end{tabular}\n",
            "text/plain": [
              "                        the.CI   \n",
              "$\\\\mu_{2.} - \\\\mu_{3.}$ 12.241555\n",
              "lower bound              2.697441\n",
              "upper bound             21.785669"
            ]
          },
          "metadata": {}
        }
      ]
    },
    {
      "cell_type": "markdown",
      "source": [
        "Our 99.9% confidence interval for the difference of average annual salary between DS and SE (software engineer) is $[2.6974, 21.7856]$. This means that we are 99.9% confident that on average DS makes around 2.6974 and 21.7856 more annually compared to SE. Since 0 is not in our confidence interval, we are 99.9% certain that there is a difference in average annual salary between DS and SE (i.e. DS makes more than SE)."
      ],
      "metadata": {
        "id": "eTcSQYhRQwTm"
      }
    },
    {
      "cell_type": "code",
      "source": [
        "# Give me CI for BE vs SE\n",
        "the.CI <- give.me.CI(the.data, mse, equal.weights = TRUE, the.mult, \"A\",\n",
        "                     c(1, 0, -1))\n",
        "names(the.CI) <- c(\"$\\\\mu_{1.} - \\\\mu_{3.}$\", \"lower bound\", \"upper bound\")\n",
        "# data.frame(the.CI)"
      ],
      "metadata": {
        "colab": {
          "base_uri": "https://localhost:8080/",
          "height": 192
        },
        "id": "7eN0VjtORcH-",
        "outputId": "34451da1-dc77-4630-872c-e07f3cc197b1"
      },
      "execution_count": null,
      "outputs": [
        {
          "output_type": "display_data",
          "data": {
            "text/html": [
              "<table class=\"dataframe\">\n",
              "<caption>A data.frame: 3 × 1</caption>\n",
              "<thead>\n",
              "\t<tr><th></th><th scope=col>the.CI</th></tr>\n",
              "\t<tr><th></th><th scope=col>&lt;dbl&gt;</th></tr>\n",
              "</thead>\n",
              "<tbody>\n",
              "\t<tr><th scope=row>$\\mu_{1.} - \\mu_{3.}$</th><td>-21.81944</td></tr>\n",
              "\t<tr><th scope=row>lower bound</th><td>-31.36355</td></tr>\n",
              "\t<tr><th scope=row>upper bound</th><td>-12.27533</td></tr>\n",
              "</tbody>\n",
              "</table>\n"
            ],
            "text/markdown": "\nA data.frame: 3 × 1\n\n| <!--/--> | the.CI &lt;dbl&gt; |\n|---|---|\n| $\\mu_{1.} - \\mu_{3.}$ | -21.81944 |\n| lower bound | -31.36355 |\n| upper bound | -12.27533 |\n\n",
            "text/latex": "A data.frame: 3 × 1\n\\begin{tabular}{r|l}\n  & the.CI\\\\\n  & <dbl>\\\\\n\\hline\n\t\\$\\textbackslash{}mu\\_\\{1.\\} - \\textbackslash{}mu\\_\\{3.\\}\\$ & -21.81944\\\\\n\tlower bound & -31.36355\\\\\n\tupper bound & -12.27533\\\\\n\\end{tabular}\n",
            "text/plain": [
              "                        the.CI   \n",
              "$\\\\mu_{1.} - \\\\mu_{3.}$ -21.81944\n",
              "lower bound             -31.36355\n",
              "upper bound             -12.27533"
            ]
          },
          "metadata": {}
        }
      ]
    },
    {
      "cell_type": "markdown",
      "source": [
        "Our 99.9% confidence interval for the average difference of annual salary between BE and SE is $[-31.3635, -12.2753]$. This means that we are 99.9% confident that on average BE makes around 12.2753 and 31.3635 less annually compared to SE. Since 0 is not in our confidence interval, we are 99.9% certain that there is a difference in average annual salary between BE and SE (i.e. BE makes more than SE)."
      ],
      "metadata": {
        "id": "iCTNj-NXRloP"
      }
    },
    {
      "cell_type": "markdown",
      "source": [
        "### IV.2.4 Effect of Region on Average Annual Salary"
      ],
      "metadata": {
        "id": "SLcAvM0xor7v"
      }
    },
    {
      "cell_type": "markdown",
      "source": [
        "We will analyze the difference of average annual salary between S and SF."
      ],
      "metadata": {
        "id": "X4Afo0w8Y_x8"
      }
    },
    {
      "cell_type": "code",
      "source": [
        "# Give me multiplier for pairwise comparisons between different regions\n",
        "all.mult <- find.mult(alpha = alpha, a = a, b = b, dfSSE = df_sse, g = 1,\n",
        "                      group = \"B\")\n",
        "the.mult <- min(all.mult)"
      ],
      "metadata": {
        "id": "anrBdAywRiuD"
      },
      "execution_count": null,
      "outputs": []
    },
    {
      "cell_type": "code",
      "source": [
        "# Give me CI for S vs SF\n",
        "the.CI <- give.me.CI(the.data, mse, equal.weights = TRUE, the.mult, \"B\",\n",
        "                     c(1, -1))\n",
        "names(the.CI) <- c(\"$\\\\mu_{.1} - \\\\mu_{.2}$\", \"lower bound\", \"upper bound\")\n",
        "# data.frame(the.CI)"
      ],
      "metadata": {
        "colab": {
          "base_uri": "https://localhost:8080/",
          "height": 192
        },
        "id": "qkBhWjJso5VO",
        "outputId": "a9724faf-ddd9-4327-f4aa-f5272fc9e70c"
      },
      "execution_count": null,
      "outputs": [
        {
          "output_type": "display_data",
          "data": {
            "text/html": [
              "<table class=\"dataframe\">\n",
              "<caption>A data.frame: 3 × 1</caption>\n",
              "<thead>\n",
              "\t<tr><th></th><th scope=col>the.CI</th></tr>\n",
              "\t<tr><th></th><th scope=col>&lt;dbl&gt;</th></tr>\n",
              "</thead>\n",
              "<tbody>\n",
              "\t<tr><th scope=row>$\\mu_{.1} - \\mu_{.2}$</th><td> -7.5404493</td></tr>\n",
              "\t<tr><th scope=row>lower bound</th><td>-14.6742876</td></tr>\n",
              "\t<tr><th scope=row>upper bound</th><td> -0.4066109</td></tr>\n",
              "</tbody>\n",
              "</table>\n"
            ],
            "text/markdown": "\nA data.frame: 3 × 1\n\n| <!--/--> | the.CI &lt;dbl&gt; |\n|---|---|\n| $\\mu_{.1} - \\mu_{.2}$ |  -7.5404493 |\n| lower bound | -14.6742876 |\n| upper bound |  -0.4066109 |\n\n",
            "text/latex": "A data.frame: 3 × 1\n\\begin{tabular}{r|l}\n  & the.CI\\\\\n  & <dbl>\\\\\n\\hline\n\t\\$\\textbackslash{}mu\\_\\{.1\\} - \\textbackslash{}mu\\_\\{.2\\}\\$ &  -7.5404493\\\\\n\tlower bound & -14.6742876\\\\\n\tupper bound &  -0.4066109\\\\\n\\end{tabular}\n",
            "text/plain": [
              "                        the.CI     \n",
              "$\\\\mu_{.1} - \\\\mu_{.2}$  -7.5404493\n",
              "lower bound             -14.6742876\n",
              "upper bound              -0.4066109"
            ]
          },
          "metadata": {}
        }
      ]
    },
    {
      "cell_type": "markdown",
      "source": [
        "Our 99.9% confidence interval for the average difference of annual salary between S and SF is $[-14.6743, -0.4066]$. This means that we are 99.9% confident that on average people in S makes around 0.4066 and 14.6743 less annually compared to SF. Since 0 is not in our confidence interval, we are 99.9% certain that there is a difference in average annual salary between people in S and SF (i.e. S makes less than SF)."
      ],
      "metadata": {
        "id": "nZhSoVzAuVPD"
      }
    },
    {
      "cell_type": "markdown",
      "source": [
        "### IV.2.5 Addressing Large Salary Difference Between Regions for SE"
      ],
      "metadata": {
        "id": "q63EA-cMuweO"
      }
    },
    {
      "cell_type": "markdown",
      "source": [
        "From the summary, we see there is an interaction effect where SE gets much higher pay in SF than S compared to other professions. This means that regional differences may not apply to professions other than SE. We will use pairwise confidence interval where we compare the effect of different regions on average annual salary for average professional other than SE."
      ],
      "metadata": {
        "id": "qJeCw6E5Vz4e"
      }
    },
    {
      "cell_type": "code",
      "source": [
        "# Give me multiplier for pairwise comparisons between different regions\n",
        "# g is one here because the two non-pairwise confidence intervals\n",
        "# that we will calculate are unrelated\n",
        "all.mult <- find.mult(alpha = alpha, a = a, b = b, dfSSE = df_sse, g = 1,\n",
        "                      group = \"AB\")\n",
        "bon <- all.mult[1]\n",
        "sch <- all.mult[3]\n",
        "the.mult <- min(bon, sch)"
      ],
      "metadata": {
        "id": "vqikADcVwhxS"
      },
      "execution_count": null,
      "outputs": []
    },
    {
      "cell_type": "code",
      "source": [
        "# Give me CI on S vs SF for avg(BE, DS)\n",
        "AB.cs = matrix(0,nrow = a, ncol = b)\n",
        "AB.cs[1, 1] = 0.5\n",
        "AB.cs[2, 1] = 0.5\n",
        "AB.cs[1, 2] = -0.5\n",
        "AB.cs[2, 2] = -0.5\n",
        "the.CI <- give.me.CI(the.data, mse, equal.weights = TRUE, the.mult, \"AB\", AB.cs)\n",
        "names(the.CI) <- c(\n",
        "  \"$0.5 * \\\\mu_{11} + 0.5 * \\\\mu_{21} - 0.5 * \\\\mu_{12} - 0.5 * \\\\mu_{22}$\",\n",
        "  \"lower bound\", \"upper bound\"\n",
        ")\n",
        "# data.frame(the.CI)"
      ],
      "metadata": {
        "colab": {
          "base_uri": "https://localhost:8080/",
          "height": 192
        },
        "id": "IEykB5lqXS6A",
        "outputId": "00a62458-ddad-4d6f-d25e-7c5213a5a932"
      },
      "execution_count": null,
      "outputs": [
        {
          "output_type": "display_data",
          "data": {
            "text/html": [
              "<table class=\"dataframe\">\n",
              "<caption>A data.frame: 3 × 1</caption>\n",
              "<thead>\n",
              "\t<tr><th></th><th scope=col>the.CI</th></tr>\n",
              "\t<tr><th></th><th scope=col>&lt;dbl&gt;</th></tr>\n",
              "</thead>\n",
              "<tbody>\n",
              "\t<tr><th scope=row>$0.5 * \\mu_{11} + 0.5 * \\mu_{21} - 0.5 * \\mu_{12} - 0.5 * \\mu_{22}$</th><td> -3.952987</td></tr>\n",
              "\t<tr><th scope=row>lower bound</th><td>-12.690119</td></tr>\n",
              "\t<tr><th scope=row>upper bound</th><td>  4.784145</td></tr>\n",
              "</tbody>\n",
              "</table>\n"
            ],
            "text/markdown": "\nA data.frame: 3 × 1\n\n| <!--/--> | the.CI &lt;dbl&gt; |\n|---|---|\n| $0.5 * \\mu_{11} + 0.5 * \\mu_{21} - 0.5 * \\mu_{12} - 0.5 * \\mu_{22}$ |  -3.952987 |\n| lower bound | -12.690119 |\n| upper bound |   4.784145 |\n\n",
            "text/latex": "A data.frame: 3 × 1\n\\begin{tabular}{r|l}\n  & the.CI\\\\\n  & <dbl>\\\\\n\\hline\n\t\\$0.5 * \\textbackslash{}mu\\_\\{11\\} + 0.5 * \\textbackslash{}mu\\_\\{21\\} - 0.5 * \\textbackslash{}mu\\_\\{12\\} - 0.5 * \\textbackslash{}mu\\_\\{22\\}\\$ &  -3.952987\\\\\n\tlower bound & -12.690119\\\\\n\tupper bound &   4.784145\\\\\n\\end{tabular}\n",
            "text/plain": [
              "                                                                        the.CI    \n",
              "$0.5 * \\\\mu_{11} + 0.5 * \\\\mu_{21} - 0.5 * \\\\mu_{12} - 0.5 * \\\\mu_{22}$  -3.952987\n",
              "lower bound                                                             -12.690119\n",
              "upper bound                                                               4.784145"
            ]
          },
          "metadata": {}
        }
      ]
    },
    {
      "cell_type": "markdown",
      "source": [
        "Our 99.9% confidence interval for the average difference in annual salary between S and SF is $[-12.6901, 4.7841]$ for the average professional other than SE. Since 0 is in our confidence interval, we cannot conclude that there is a difference between regions for the average professional other than SE. Therefore we believe that the result from IV.2.4, the difference of average annual salary on region, mainly applies to SE."
      ],
      "metadata": {
        "id": "g1m47DcNwlzi"
      }
    },
    {
      "cell_type": "markdown",
      "source": [
        "### IV.2.6 Addressing Wage Inequality in SF"
      ],
      "metadata": {
        "id": "sXNygdLMc-FE"
      }
    },
    {
      "cell_type": "markdown",
      "source": [
        "From the summary, we noticed a huge gap between the average annual salary for the lowest paying profession compared to the other professions. This gap may be a sign of wage inequality. Lets test how big this gap is."
      ],
      "metadata": {
        "id": "boAe1Ybvdd_0"
      }
    },
    {
      "cell_type": "code",
      "source": [
        "# Give me CI on S vs SF for avg(BE, DS)\n",
        "AB.cs = matrix(0,nrow = a, ncol = b)\n",
        "AB.cs[1, 2] = 1\n",
        "AB.cs[2, 2] = -0.5\n",
        "AB.cs[3, 2] = -0.5\n",
        "the.CI <- give.me.CI(the.data, mse, equal.weights = TRUE, the.mult, \"AB\", AB.cs)\n",
        "names(the.CI) <- c(\"$\\\\mu_{12} - 0.5 * \\\\mu_{22} - 0.5 * \\\\mu_{32}$\",\n",
        "                   \"lower bound\", \"upper bound\")\n",
        "# data.frame(the.CI)"
      ],
      "metadata": {
        "colab": {
          "base_uri": "https://localhost:8080/",
          "height": 192
        },
        "id": "MmeeoBpodEg5",
        "outputId": "54d496b5-5beb-434d-fb09-1e540aa59246"
      },
      "execution_count": null,
      "outputs": [
        {
          "output_type": "display_data",
          "data": {
            "text/html": [
              "<table class=\"dataframe\">\n",
              "<caption>A data.frame: 3 × 1</caption>\n",
              "<thead>\n",
              "\t<tr><th></th><th scope=col>the.CI</th></tr>\n",
              "\t<tr><th></th><th scope=col>&lt;dbl&gt;</th></tr>\n",
              "</thead>\n",
              "<tbody>\n",
              "\t<tr><th scope=row>$\\mu_{12} - 0.5 * \\mu_{22} - 0.5 * \\mu_{32}$</th><td>-31.59734</td></tr>\n",
              "\t<tr><th scope=row>lower bound</th><td>-42.29809</td></tr>\n",
              "\t<tr><th scope=row>upper bound</th><td>-20.89658</td></tr>\n",
              "</tbody>\n",
              "</table>\n"
            ],
            "text/markdown": "\nA data.frame: 3 × 1\n\n| <!--/--> | the.CI &lt;dbl&gt; |\n|---|---|\n| $\\mu_{12} - 0.5 * \\mu_{22} - 0.5 * \\mu_{32}$ | -31.59734 |\n| lower bound | -42.29809 |\n| upper bound | -20.89658 |\n\n",
            "text/latex": "A data.frame: 3 × 1\n\\begin{tabular}{r|l}\n  & the.CI\\\\\n  & <dbl>\\\\\n\\hline\n\t\\$\\textbackslash{}mu\\_\\{12\\} - 0.5 * \\textbackslash{}mu\\_\\{22\\} - 0.5 * \\textbackslash{}mu\\_\\{32\\}\\$ & -31.59734\\\\\n\tlower bound & -42.29809\\\\\n\tupper bound & -20.89658\\\\\n\\end{tabular}\n",
            "text/plain": [
              "                                                the.CI   \n",
              "$\\\\mu_{12} - 0.5 * \\\\mu_{22} - 0.5 * \\\\mu_{32}$ -31.59734\n",
              "lower bound                                     -42.29809\n",
              "upper bound                                     -20.89658"
            ]
          },
          "metadata": {}
        }
      ]
    },
    {
      "cell_type": "markdown",
      "source": [
        "Our 99.9% confidence interval for the difference in average annual salary between BE and the average profession other than BE is $[-42.2981, -20.8966]$ for SF. This means that we are 99.9% confident that in SF the profession BE pays an average annual salary of around 20.8966 to 42.2981 lower than the average other professions. Since 0 is not in our confidence interval, we conclude that there is a difference between BE and the average other professions in SF."
      ],
      "metadata": {
        "id": "SgMOC27YgGms"
      }
    },
    {
      "cell_type": "markdown",
      "source": [
        "# V Conclusion"
      ],
      "metadata": {
        "id": "gZpb99gchQ81"
      }
    },
    {
      "cell_type": "markdown",
      "source": [
        "In conclusion, we find that the profession does affect annual salary. We also found that region only affects salary for SE (software engineers). Lastly, we found a significant wage gap between the lowest paying job, BE (bioinfograhics enginering), and other professions in SF. We are confident in our results as our data does not violate normality or constant variance ANOVA assumptions, and in our diagnostics and we chose conservative $\\alpha$ values for each test yielding more accurate results.\n",
        "\n",
        "One limitation is the fact that we have very few groups and not enough data. For example, there are other technology roles like Machine Learning and hardware engineering. We could have also separated entry level roles from senior level roles. These ideas can present more insighful results."
      ],
      "metadata": {
        "id": "YvggKJfYhekM"
      }
    },
    {
      "cell_type": "code",
      "source": [],
      "metadata": {
        "id": "CiGqr64xtQzh"
      },
      "execution_count": null,
      "outputs": []
    }
  ]
}